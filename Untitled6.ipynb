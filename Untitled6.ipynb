{
  "nbformat": 4,
  "nbformat_minor": 0,
  "metadata": {
    "colab": {
      "name": "Untitled6.ipynb",
      "provenance": [],
      "machine_shape": "hm",
      "authorship_tag": "ABX9TyOg6h4l2A70AOK2gfwsKe6l",
      "include_colab_link": true
    },
    "kernelspec": {
      "name": "python3",
      "display_name": "Python 3"
    }
  },
  "cells": [
    {
      "cell_type": "markdown",
      "metadata": {
        "id": "view-in-github",
        "colab_type": "text"
      },
      "source": [
        "<a href=\"https://colab.research.google.com/github/delta1908/Hackerearth-Machine-Learning-Challenge-How-effective-is-the-STD-drug/blob/master/Untitled6.ipynb\" target=\"_parent\"><img src=\"https://colab.research.google.com/assets/colab-badge.svg\" alt=\"Open In Colab\"/></a>"
      ]
    },
    {
      "cell_type": "markdown",
      "metadata": {
        "id": "_bM8eIO2NpbS",
        "colab_type": "text"
      },
      "source": [
        "Training and test data"
      ]
    },
    {
      "cell_type": "code",
      "metadata": {
        "id": "1KNimoPjMiTc",
        "colab_type": "code",
        "outputId": "81025474-4fe9-441a-bb9c-cfd73c27f7d2",
        "colab": {
          "base_uri": "https://localhost:8080/",
          "height": 796
        }
      },
      "source": [
        "import pandas as pd\n",
        "data=pd.read_csv('/content/train.csv')\n",
        "test=pd.read_csv('/content/test.csv')\n",
        "data"
      ],
      "execution_count": 300,
      "outputs": [
        {
          "output_type": "execute_result",
          "data": {
            "text/html": [
              "<div>\n",
              "<style scoped>\n",
              "    .dataframe tbody tr th:only-of-type {\n",
              "        vertical-align: middle;\n",
              "    }\n",
              "\n",
              "    .dataframe tbody tr th {\n",
              "        vertical-align: top;\n",
              "    }\n",
              "\n",
              "    .dataframe thead th {\n",
              "        text-align: right;\n",
              "    }\n",
              "</style>\n",
              "<table border=\"1\" class=\"dataframe\">\n",
              "  <thead>\n",
              "    <tr style=\"text-align: right;\">\n",
              "      <th></th>\n",
              "      <th>patient_id</th>\n",
              "      <th>name_of_drug</th>\n",
              "      <th>use_case_for_drug</th>\n",
              "      <th>review_by_patient</th>\n",
              "      <th>effectiveness_rating</th>\n",
              "      <th>drug_approved_by_UIC</th>\n",
              "      <th>number_of_times_prescribed</th>\n",
              "      <th>base_score</th>\n",
              "    </tr>\n",
              "  </thead>\n",
              "  <tbody>\n",
              "    <tr>\n",
              "      <th>0</th>\n",
              "      <td>206461</td>\n",
              "      <td>Valsartan</td>\n",
              "      <td>Left Ventricular Dysfunction</td>\n",
              "      <td>\"It has no side effect, I take it in combinati...</td>\n",
              "      <td>9</td>\n",
              "      <td>20-May-12</td>\n",
              "      <td>27</td>\n",
              "      <td>8.022969</td>\n",
              "    </tr>\n",
              "    <tr>\n",
              "      <th>1</th>\n",
              "      <td>95260</td>\n",
              "      <td>Guanfacine</td>\n",
              "      <td>ADHD</td>\n",
              "      <td>\"My son is halfway through his fourth week of ...</td>\n",
              "      <td>8</td>\n",
              "      <td>27-Apr-10</td>\n",
              "      <td>192</td>\n",
              "      <td>7.858458</td>\n",
              "    </tr>\n",
              "    <tr>\n",
              "      <th>2</th>\n",
              "      <td>92703</td>\n",
              "      <td>Lybrel</td>\n",
              "      <td>Birth Control</td>\n",
              "      <td>\"I used to take another oral contraceptive, wh...</td>\n",
              "      <td>5</td>\n",
              "      <td>14-Dec-09</td>\n",
              "      <td>17</td>\n",
              "      <td>6.341969</td>\n",
              "    </tr>\n",
              "    <tr>\n",
              "      <th>3</th>\n",
              "      <td>35696</td>\n",
              "      <td>Buprenorphine / naloxone</td>\n",
              "      <td>Opiate Dependence</td>\n",
              "      <td>\"Suboxone has completely turned my life around...</td>\n",
              "      <td>9</td>\n",
              "      <td>27-Nov-16</td>\n",
              "      <td>37</td>\n",
              "      <td>6.590176</td>\n",
              "    </tr>\n",
              "    <tr>\n",
              "      <th>4</th>\n",
              "      <td>155963</td>\n",
              "      <td>Cialis</td>\n",
              "      <td>Benign Prostatic Hyperplasia</td>\n",
              "      <td>\"2nd day on 5mg started to work with rock hard...</td>\n",
              "      <td>2</td>\n",
              "      <td>28-Nov-15</td>\n",
              "      <td>43</td>\n",
              "      <td>6.144782</td>\n",
              "    </tr>\n",
              "    <tr>\n",
              "      <th>...</th>\n",
              "      <td>...</td>\n",
              "      <td>...</td>\n",
              "      <td>...</td>\n",
              "      <td>...</td>\n",
              "      <td>...</td>\n",
              "      <td>...</td>\n",
              "      <td>...</td>\n",
              "      <td>...</td>\n",
              "    </tr>\n",
              "    <tr>\n",
              "      <th>32160</th>\n",
              "      <td>183202</td>\n",
              "      <td>Cymbalta</td>\n",
              "      <td>Anxiety</td>\n",
              "      <td>\"I have been taking Cymbalta for 15 months now...</td>\n",
              "      <td>9</td>\n",
              "      <td>10-Jun-13</td>\n",
              "      <td>89</td>\n",
              "      <td>6.963020</td>\n",
              "    </tr>\n",
              "    <tr>\n",
              "      <th>32161</th>\n",
              "      <td>109111</td>\n",
              "      <td>Nexplanon</td>\n",
              "      <td>Birth Control</td>\n",
              "      <td>\"I have had the Nexplanon since Dec. 27, 2016 ...</td>\n",
              "      <td>6</td>\n",
              "      <td>6-Apr-17</td>\n",
              "      <td>0</td>\n",
              "      <td>0.899076</td>\n",
              "    </tr>\n",
              "    <tr>\n",
              "      <th>32162</th>\n",
              "      <td>121154</td>\n",
              "      <td>Venlafaxine</td>\n",
              "      <td>Panic Disorde</td>\n",
              "      <td>\"Had panic attacks and social anxiety starting...</td>\n",
              "      <td>9</td>\n",
              "      <td>10-Nov-16</td>\n",
              "      <td>25</td>\n",
              "      <td>6.241812</td>\n",
              "    </tr>\n",
              "    <tr>\n",
              "      <th>32163</th>\n",
              "      <td>45410</td>\n",
              "      <td>Fluoxetine</td>\n",
              "      <td>Obsessive Compulsive Disorde</td>\n",
              "      <td>\"I have been off Prozac for about 4 weeks now....</td>\n",
              "      <td>8</td>\n",
              "      <td>21-Jan-15</td>\n",
              "      <td>22</td>\n",
              "      <td>7.940428</td>\n",
              "    </tr>\n",
              "    <tr>\n",
              "      <th>32164</th>\n",
              "      <td>187382</td>\n",
              "      <td>Orencia</td>\n",
              "      <td>Rheumatoid Arthritis</td>\n",
              "      <td>\"Limited improvement after 4 months, developed...</td>\n",
              "      <td>2</td>\n",
              "      <td>15-Mar-14</td>\n",
              "      <td>35</td>\n",
              "      <td>8.205393</td>\n",
              "    </tr>\n",
              "  </tbody>\n",
              "</table>\n",
              "<p>32165 rows × 8 columns</p>\n",
              "</div>"
            ],
            "text/plain": [
              "       patient_id  ... base_score\n",
              "0          206461  ...   8.022969\n",
              "1           95260  ...   7.858458\n",
              "2           92703  ...   6.341969\n",
              "3           35696  ...   6.590176\n",
              "4          155963  ...   6.144782\n",
              "...           ...  ...        ...\n",
              "32160      183202  ...   6.963020\n",
              "32161      109111  ...   0.899076\n",
              "32162      121154  ...   6.241812\n",
              "32163       45410  ...   7.940428\n",
              "32164      187382  ...   8.205393\n",
              "\n",
              "[32165 rows x 8 columns]"
            ]
          },
          "metadata": {
            "tags": []
          },
          "execution_count": 300
        }
      ]
    },
    {
      "cell_type": "markdown",
      "metadata": {
        "id": "je1SysIhyWFy",
        "colab_type": "text"
      },
      "source": [
        "Merging text"
      ]
    },
    {
      "cell_type": "code",
      "metadata": {
        "id": "CDaHy7JmnPfq",
        "colab_type": "code",
        "colab": {}
      },
      "source": [
        "data['review_by_patient']=data['review_by_patient']+data['use_case_for_drug']+data['name_of_drug']\n",
        "test['review_by_patient']=test['review_by_patient']+test['use_case_for_drug']+test['name_of_drug']\n",
        "from gensim.parsing.preprocessing import preprocess_documents\n",
        "t1=preprocess_documents(data['review_by_patient'])\n",
        "t2=preprocess_documents(test['review_by_patient'])"
      ],
      "execution_count": 0,
      "outputs": []
    },
    {
      "cell_type": "code",
      "metadata": {
        "id": "d_dP6uFfoNYc",
        "colab_type": "code",
        "colab": {}
      },
      "source": [
        "l1=[]\n",
        "for i in t1:\n",
        "  s1=''\n",
        "  for j in i:\n",
        "    s1=s1+j+' '\n",
        "  l1.append(s1)\n",
        "l2=[]\n",
        "for i in t2:\n",
        "  s2=''\n",
        "  for j in i:\n",
        "    s2=s2+j+' '\n",
        "  l2.append(s2)\n",
        "data['review_by_patient']=l1\n",
        "test['review_by_patient']=l2"
      ],
      "execution_count": 0,
      "outputs": []
    },
    {
      "cell_type": "markdown",
      "metadata": {
        "id": "6OrjAEDWOH05",
        "colab_type": "text"
      },
      "source": [
        "Tfidf for Vectorizing the Text"
      ]
    },
    {
      "cell_type": "code",
      "metadata": {
        "id": "157AbufJOAew",
        "colab_type": "code",
        "colab": {}
      },
      "source": [
        "from sklearn.feature_extraction.text import TfidfVectorizer\n",
        "import numpy as np\n",
        "reg=TfidfVectorizer()\n",
        "text=data['review_by_patient']\n",
        "test_text=test['review_by_patient']\n",
        "text_to_vector=reg.fit_transform(text)\n",
        "test_text_to_vector=reg.transform(test_text)\n",
        "Y=data['base_score']"
      ],
      "execution_count": 0,
      "outputs": []
    },
    {
      "cell_type": "markdown",
      "metadata": {
        "id": "kNSQi_obObDg",
        "colab_type": "text"
      },
      "source": [
        "Normalizing the Sparse matrix"
      ]
    },
    {
      "cell_type": "code",
      "metadata": {
        "id": "rRB3VpEqRyC-",
        "colab_type": "code",
        "colab": {
          "base_uri": "https://localhost:8080/",
          "height": 417
        },
        "outputId": "94f2dc92-e6a2-453a-f078-1a7351cd4edd"
      },
      "source": [
        "import numpy as np\n",
        "t=text_to_vector.toarray()\n",
        "from numpy import linalg as LA\n",
        "l=[LA.norm(i) for i in t]\n",
        "for i in range(len(l)):\n",
        "  for j in k:\n",
        "    if l[i]==j:\n",
        "      l[i]=k.index(j)+1\n",
        "data['new_column']=l\n",
        "X_train=data[['effectiveness_rating','number_of_times_prescribed','new_column']]\n",
        "X_train"
      ],
      "execution_count": 305,
      "outputs": [
        {
          "output_type": "execute_result",
          "data": {
            "text/html": [
              "<div>\n",
              "<style scoped>\n",
              "    .dataframe tbody tr th:only-of-type {\n",
              "        vertical-align: middle;\n",
              "    }\n",
              "\n",
              "    .dataframe tbody tr th {\n",
              "        vertical-align: top;\n",
              "    }\n",
              "\n",
              "    .dataframe thead th {\n",
              "        text-align: right;\n",
              "    }\n",
              "</style>\n",
              "<table border=\"1\" class=\"dataframe\">\n",
              "  <thead>\n",
              "    <tr style=\"text-align: right;\">\n",
              "      <th></th>\n",
              "      <th>effectiveness_rating</th>\n",
              "      <th>number_of_times_prescribed</th>\n",
              "      <th>new_column</th>\n",
              "    </tr>\n",
              "  </thead>\n",
              "  <tbody>\n",
              "    <tr>\n",
              "      <th>0</th>\n",
              "      <td>9</td>\n",
              "      <td>27</td>\n",
              "      <td>1</td>\n",
              "    </tr>\n",
              "    <tr>\n",
              "      <th>1</th>\n",
              "      <td>8</td>\n",
              "      <td>192</td>\n",
              "      <td>0</td>\n",
              "    </tr>\n",
              "    <tr>\n",
              "      <th>2</th>\n",
              "      <td>5</td>\n",
              "      <td>17</td>\n",
              "      <td>1</td>\n",
              "    </tr>\n",
              "    <tr>\n",
              "      <th>3</th>\n",
              "      <td>9</td>\n",
              "      <td>37</td>\n",
              "      <td>1</td>\n",
              "    </tr>\n",
              "    <tr>\n",
              "      <th>4</th>\n",
              "      <td>2</td>\n",
              "      <td>43</td>\n",
              "      <td>1</td>\n",
              "    </tr>\n",
              "    <tr>\n",
              "      <th>...</th>\n",
              "      <td>...</td>\n",
              "      <td>...</td>\n",
              "      <td>...</td>\n",
              "    </tr>\n",
              "    <tr>\n",
              "      <th>32160</th>\n",
              "      <td>9</td>\n",
              "      <td>89</td>\n",
              "      <td>1</td>\n",
              "    </tr>\n",
              "    <tr>\n",
              "      <th>32161</th>\n",
              "      <td>6</td>\n",
              "      <td>0</td>\n",
              "      <td>1</td>\n",
              "    </tr>\n",
              "    <tr>\n",
              "      <th>32162</th>\n",
              "      <td>9</td>\n",
              "      <td>25</td>\n",
              "      <td>1</td>\n",
              "    </tr>\n",
              "    <tr>\n",
              "      <th>32163</th>\n",
              "      <td>8</td>\n",
              "      <td>22</td>\n",
              "      <td>1</td>\n",
              "    </tr>\n",
              "    <tr>\n",
              "      <th>32164</th>\n",
              "      <td>2</td>\n",
              "      <td>35</td>\n",
              "      <td>1</td>\n",
              "    </tr>\n",
              "  </tbody>\n",
              "</table>\n",
              "<p>32165 rows × 3 columns</p>\n",
              "</div>"
            ],
            "text/plain": [
              "       effectiveness_rating  number_of_times_prescribed  new_column\n",
              "0                         9                          27           1\n",
              "1                         8                         192           0\n",
              "2                         5                          17           1\n",
              "3                         9                          37           1\n",
              "4                         2                          43           1\n",
              "...                     ...                         ...         ...\n",
              "32160                     9                          89           1\n",
              "32161                     6                           0           1\n",
              "32162                     9                          25           1\n",
              "32163                     8                          22           1\n",
              "32164                     2                          35           1\n",
              "\n",
              "[32165 rows x 3 columns]"
            ]
          },
          "metadata": {
            "tags": []
          },
          "execution_count": 305
        }
      ]
    },
    {
      "cell_type": "code",
      "metadata": {
        "id": "4KxBf0mbrDQu",
        "colab_type": "code",
        "colab": {
          "base_uri": "https://localhost:8080/",
          "height": 34
        },
        "outputId": "496f77d7-558c-4b0c-9f8f-fb6c6666711a"
      },
      "source": [
        "k=[]\n",
        "for i in data['new_column']:\n",
        "  if i not in k:\n",
        "    k.append(i)\n",
        "k"
      ],
      "execution_count": 299,
      "outputs": [
        {
          "output_type": "execute_result",
          "data": {
            "text/plain": [
              "[1, 0]"
            ]
          },
          "metadata": {
            "tags": []
          },
          "execution_count": 299
        }
      ]
    },
    {
      "cell_type": "code",
      "metadata": {
        "id": "Ith3kbLDtlWy",
        "colab_type": "code",
        "colab": {
          "base_uri": "https://localhost:8080/",
          "height": 417
        },
        "outputId": "d48742f8-f2d7-4a1e-837b-94de54fb59b1"
      },
      "source": [
        "import numpy as np\n",
        "t=test_text_to_vector.toarray()\n",
        "from numpy import linalg as LA\n",
        "l=[LA.norm(i) for i in t]\n",
        "for i in range(len(l)):\n",
        "  for j in k:\n",
        "    if l[i]==j:\n",
        "      l[i]=k.index(j)+1\n",
        "test['new_column']=l\n",
        "X_test=test[['effectiveness_rating','number_of_times_prescribed','new_column']]\n",
        "X_test"
      ],
      "execution_count": 210,
      "outputs": [
        {
          "output_type": "execute_result",
          "data": {
            "text/html": [
              "<div>\n",
              "<style scoped>\n",
              "    .dataframe tbody tr th:only-of-type {\n",
              "        vertical-align: middle;\n",
              "    }\n",
              "\n",
              "    .dataframe tbody tr th {\n",
              "        vertical-align: top;\n",
              "    }\n",
              "\n",
              "    .dataframe thead th {\n",
              "        text-align: right;\n",
              "    }\n",
              "</style>\n",
              "<table border=\"1\" class=\"dataframe\">\n",
              "  <thead>\n",
              "    <tr style=\"text-align: right;\">\n",
              "      <th></th>\n",
              "      <th>effectiveness_rating</th>\n",
              "      <th>number_of_times_prescribed</th>\n",
              "      <th>new_column</th>\n",
              "    </tr>\n",
              "  </thead>\n",
              "  <tbody>\n",
              "    <tr>\n",
              "      <th>0</th>\n",
              "      <td>10</td>\n",
              "      <td>22</td>\n",
              "      <td>2</td>\n",
              "    </tr>\n",
              "    <tr>\n",
              "      <th>1</th>\n",
              "      <td>9</td>\n",
              "      <td>35</td>\n",
              "      <td>2</td>\n",
              "    </tr>\n",
              "    <tr>\n",
              "      <th>2</th>\n",
              "      <td>4</td>\n",
              "      <td>13</td>\n",
              "      <td>2</td>\n",
              "    </tr>\n",
              "    <tr>\n",
              "      <th>3</th>\n",
              "      <td>7</td>\n",
              "      <td>21</td>\n",
              "      <td>2</td>\n",
              "    </tr>\n",
              "    <tr>\n",
              "      <th>4</th>\n",
              "      <td>2</td>\n",
              "      <td>44</td>\n",
              "      <td>2</td>\n",
              "    </tr>\n",
              "    <tr>\n",
              "      <th>...</th>\n",
              "      <td>...</td>\n",
              "      <td>...</td>\n",
              "      <td>...</td>\n",
              "    </tr>\n",
              "    <tr>\n",
              "      <th>10755</th>\n",
              "      <td>1</td>\n",
              "      <td>2</td>\n",
              "      <td>4</td>\n",
              "    </tr>\n",
              "    <tr>\n",
              "      <th>10756</th>\n",
              "      <td>1</td>\n",
              "      <td>18</td>\n",
              "      <td>2</td>\n",
              "    </tr>\n",
              "    <tr>\n",
              "      <th>10757</th>\n",
              "      <td>10</td>\n",
              "      <td>43</td>\n",
              "      <td>4</td>\n",
              "    </tr>\n",
              "    <tr>\n",
              "      <th>10758</th>\n",
              "      <td>8</td>\n",
              "      <td>7</td>\n",
              "      <td>3</td>\n",
              "    </tr>\n",
              "    <tr>\n",
              "      <th>10759</th>\n",
              "      <td>9</td>\n",
              "      <td>46</td>\n",
              "      <td>2</td>\n",
              "    </tr>\n",
              "  </tbody>\n",
              "</table>\n",
              "<p>10760 rows × 3 columns</p>\n",
              "</div>"
            ],
            "text/plain": [
              "       effectiveness_rating  number_of_times_prescribed  new_column\n",
              "0                        10                          22           2\n",
              "1                         9                          35           2\n",
              "2                         4                          13           2\n",
              "3                         7                          21           2\n",
              "4                         2                          44           2\n",
              "...                     ...                         ...         ...\n",
              "10755                     1                           2           4\n",
              "10756                     1                          18           2\n",
              "10757                    10                          43           4\n",
              "10758                     8                           7           3\n",
              "10759                     9                          46           2\n",
              "\n",
              "[10760 rows x 3 columns]"
            ]
          },
          "metadata": {
            "tags": []
          },
          "execution_count": 210
        }
      ]
    },
    {
      "cell_type": "code",
      "metadata": {
        "id": "IRyu4ojVvMsS",
        "colab_type": "code",
        "colab": {
          "base_uri": "https://localhost:8080/",
          "height": 140
        },
        "outputId": "090874a5-378a-4978-8913-f82356323b37"
      },
      "source": [
        "k=[]\n",
        "for i in test['new_column']:\n",
        "  if i not in k:\n",
        "    k.append(i)"
      ],
      "execution_count": 209,
      "outputs": [
        {
          "output_type": "execute_result",
          "data": {
            "text/plain": [
              "[0.9999999999999998,\n",
              " 1.0,\n",
              " 1.0000000000000002,\n",
              " 0.9999999999999999,\n",
              " 0.9999999999999997,\n",
              " 0.9999999999999996,\n",
              " 1.0000000000000004]"
            ]
          },
          "metadata": {
            "tags": []
          },
          "execution_count": 209
        }
      ]
    },
    {
      "cell_type": "markdown",
      "metadata": {
        "id": "YCBxkc90QVR0",
        "colab_type": "text"
      },
      "source": [
        "Model:GradientBoostingRegressor"
      ]
    },
    {
      "cell_type": "code",
      "metadata": {
        "id": "6wLup53xOgdX",
        "colab_type": "code",
        "outputId": "0b0ce4e5-d663-4da4-c499-3361f5190411",
        "colab": {
          "base_uri": "https://localhost:8080/",
          "height": 34
        }
      },
      "source": [
        "from sklearn.ensemble import GradientBoostingRegressor\n",
        "reg1=GradientBoostingRegressor(max_depth=8, n_estimators=1400)\n",
        "reg1.fit(X_train,Y)\n",
        "reg1.feature_importances_"
      ],
      "execution_count": 306,
      "outputs": [
        {
          "output_type": "execute_result",
          "data": {
            "text/plain": [
              "array([4.90125853e-01, 5.09744956e-01, 1.29191332e-04])"
            ]
          },
          "metadata": {
            "tags": []
          },
          "execution_count": 306
        }
      ]
    },
    {
      "cell_type": "code",
      "metadata": {
        "id": "W_laG-1i2yRL",
        "colab_type": "code",
        "colab": {}
      },
      "source": [
        "pred=reg1.predict(X_test)"
      ],
      "execution_count": 0,
      "outputs": []
    },
    {
      "cell_type": "code",
      "metadata": {
        "id": "FT_wYI_v23sa",
        "colab_type": "code",
        "colab": {}
      },
      "source": [
        "import csv\n",
        "with open('predictions.csv', 'w', newline='') as file:\n",
        "    writer = csv.writer(file)\n",
        "    writer.writerow(['patient_id','base_score'])\n",
        "    for i in range(len(list(pred))):\n",
        "        writer.writerow([test[\"patient_id\"][i],pred[i]])"
      ],
      "execution_count": 0,
      "outputs": []
    },
    {
      "cell_type": "markdown",
      "metadata": {
        "id": "ZMCkjpHIeTo0",
        "colab_type": "text"
      },
      "source": [
        "Score"
      ]
    },
    {
      "cell_type": "code",
      "metadata": {
        "id": "jr8eCQf0Q132",
        "colab_type": "code",
        "outputId": "1aa1fabf-53f7-4fa0-8f80-e5109378348c",
        "colab": {
          "base_uri": "https://localhost:8080/",
          "height": 34
        }
      },
      "source": [
        "pred1=reg1.predict(X_train)\n",
        "from sklearn.metrics import r2_score\n",
        "score=r2_score(Y,pred1)\n",
        "score"
      ],
      "execution_count": 307,
      "outputs": [
        {
          "output_type": "execute_result",
          "data": {
            "text/plain": [
              "0.9999999607049629"
            ]
          },
          "metadata": {
            "tags": []
          },
          "execution_count": 307
        }
      ]
    },
    {
      "cell_type": "code",
      "metadata": {
        "id": "Ln5ZeD51xZ05",
        "colab_type": "code",
        "colab": {}
      },
      "source": [
        ""
      ],
      "execution_count": 0,
      "outputs": []
    }
  ]
}